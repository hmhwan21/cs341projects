{
 "cells": [
  {
   "cell_type": "markdown",
   "metadata": {},
   "source": [
    "## CS341 Project 4: Genetic Algorithms\n",
    "\n",
    "Your first goal is to analyze the performance of several genetic algorithms in the context of parameter-estimation. Your second goal is to analyze the results, i.e. what do we learn about the model? In this project, we are revisiting Goldbeter's 5-state fly clock model, whose parameters were originally chosen \"by hand.\" You will use a cost function which ensures the oscillations in constant darkness have a period of 23.6 hours.\n",
    "\n",
    "There are many, many variants of genetic algorithms. We will be using the following algorithm.\n",
    "\n",
    "<ul>\n",
    "    <li>Create an initial population of $\\lambda$ individuals $G^0$ and generate their costs.\n",
    "    <li>Sort the individuals by cost (in preparation for selection)\n",
    "    <li>For each generation $g$\n",
    "        <ul>\n",
    "        <li>Take the $eliteCount$ best children from the previous generation $G^{g-1}$ and put them into this generation $G^g$\n",
    "        <li>Select the breeding pool $P$ of $\\mu$ individuals from the previous generation.\n",
    "        <li>For i in range($eliteCount$,$\\lambda$)\n",
    "            <ul>\n",
    "            <li>Randomly select two parents from $P$.\n",
    "            <li>Use cross-over to generate a child $G^g_i$.\n",
    "            <li>Mutate the values in $G^g_i$.\n",
    "            <li>Compute the child's cost.\n",
    "            </ul>\n",
    "        <li>Sort the individuals in $G^g_i$ by cost (in preparation for selection)\n",
    "        </ul>\n",
    "</ul>   \n",
    "\n",
    "The key operators and parameters can be varied:\n",
    "<ul>\n",
    "    <li>Selection can favor fit (low-cost) parents more or less. If we favor them more, then the algorithm converges quickly, but it doesn't explore parameter space very well, and could miss a more fit individual. If we favor them less, the algorithm might not find children of increasingly good fitness. Explanations of several selection operators may be found in: Blickle, T. and Thiele, L. 1995. A comparison of selection schemes used in genetic algorithms. Tech. Rep. TIK-Report 11, Swiss Federal Institute of Technology (ETH), Zurich, Switzerland, May.\n",
    "    <li>Crossover is typically \"uniform\" (each element of the child is randomly taken from one of its two parents) or \"single\" (a cross-over point is selected and all elements up to the cross-over point are taken from one parent and the remaining elements are taken from the second parent).\n",
    "    <li>Mutation is typically implemented by choosing a value from a Gaussian distribution centered on each element. One straightforward way to vary the mutation is to vary the width of the distribution. We control the size of the mutation by scaling the width of the Gaussian distribution (it should be $mutationScale\\cdot parameterValue$).\n",
    "    <li>The number of parents $\\mu$ and children $\\lambda$ affects how widely we can sample space. Large numbers of children allow for a broader sampling. The number of parents (the size of the breeding pool) should be a fraction of the number of children (typically, it is a number like 1/5). It works with the selection operator to control how broadly the space is searched and how quickly the algorithm progresses towards a solution. The number of children that you need to use depends upon the problem. It can range from in the tens (e.g. our simple island cost function from class) to thousands.\n",
    "    <li>The number of elite individuals should be small (e.g. 1 to 3). Including elites guarantees that the best-fit individual in generation $g$ will be at least as fit as the best-fit individual in generation $g-1$.\n",
    "    <li>The number of generations should be as big as it needs to be for the best (or average) cost to stop improving. For some problems, thousands of generations are used. Here, we are able to use many fewer (e.g. I used 5 for the simple island cost function in class)\n",
    "</ul>  \n",
    "\n",
    "## Algorithm Performance\n",
    "\n",
    "<ol>\n",
    "<li> Run each algorithm on the fly model at least 5 times for each ``flavor'' for at least 5 generations,  i.e. analyze performance for \n",
    "\t<ol>\n",
    "    <li> a GA with truncation selection, an elite count of 1, 10 parents, 50 children, and a mutation scale of 0.05\n",
    "\t<li> a GA with tournament selection (tournament size = 2), an elite count of 1, 10 parents, 50 children, and a mutation scale of 0.05\n",
    "\t<li> a GA with linear ranking selection, an elite count of 1, 8 parents, 40 children, and a mutation fraction of 0.05\n",
    "    </ol>\n",
    "<li> Report your results in a concise, but informative manner. You will want to identify trends. To do this, quantify the performance of the algorithm. For example, determine the mean population cost from generation to generation.\n",
    "</ol>\n",
    "\n",
    "## Implication for Model\n",
    "Using some of your output from above, analyze the effects of different parameters on the model's performance. Below are suggestions to guide your analysis. Follow at least one of them.\n",
    "\n",
    "<ol>\n",
    "<li> How different are the parameter sets? Do wildly different parameter sets map to wildly different outputs? Are their patterns?\n",
    "<li> You may see different relationships between amplitudes of clock components. Do you see any patterns in this behavior? If not, maybe you can conclude that the relative amplitude is not a property of the model's parameters, but that it is a property of its structure. Make a detailed case for your conclusion.\n",
    "<li> Choose several parameter sets and determine whether or not the non-intuitive behavior mentioned in Goldbeter's paper occurs. In his paper, he showed that increasing the rate of Per protein degradation ($v_d$) increases the total PER in the system. Is this true for multiple parameter sets?\n",
    "</ol>\n",
    "\n",
    "## Extensions\n",
    "\n",
    "<ul>\n",
    "<li> Implement proportional selection and include analysis of the GA with proportional selection it in your write-up.\n",
    "<li> Include additional analysis with different values of the algorithm's parameters. What happens if the number of children per generation is different? What about increasing or decreasing the mutation fraction?\n",
    "<li> Include simulated annealing in your set of optimization algorithms.\n",
    "<li> Implement a simulated annealing optimization algorithm.\n",
    "<li> Make a hybrid algorithm that uses both a GA (or simulated annealing) and a deterministic method (e.g. a hill-descending method). The idea is that the stochastic algorithms helps you find the right region of parameter space, and that in that region, the cost function will be smooth (and maybe even monotonic). Once we are in a region that is smooth and monotonic, we can use a deterministic optimization method to refine our parameter set to find the local optimum.\n",
    "<li> Include amplitude in the cost function for Goldbeter's model: add a penalty for each state variable whose peak-to-trough amplitude is less than 0.1.\n",
    "<li> Also find parameters for the Gonze/Goodwin oscillator.\n",
    "</ul>\n"
   ]
  },
  {
   "cell_type": "markdown",
   "metadata": {},
   "source": [
    "## Steps to get you started\n",
    "### 1. Cost function for fly clock model\n",
    "\n",
    "To write the cost function for the fly clock model, you will need gol95_model and get_period from project 2. \n",
    "\n",
    "Your cost function should have the signature:\n",
    "<code>\n",
    "def gol95_cost( params ):    \n",
    "</code>\n",
    "\n",
    "where params is the ndarray of parameters used to simulate the model.\n",
    "\n",
    "It should\n",
    "<ul>\n",
    "    <li>Run the simulation with params as the parameters for at least 10 days, so that it is likely to have reached the limit cycle.\n",
    "    <li>Re-run the simulation, beginning with the values from the final time step of the previous simulation.\n",
    "    <li>Compute the period $per$ and the cycle-to-cycle standard deviation of the period $sdper$ by calling get_period.\n",
    "    <li>Compute the cost according to\n",
    "        $\\sqrt{ \\frac{per-23.6}{23.6}^2 + sdper/23.6}$\n",
    "</ul>\n"
   ]
  },
  {
   "cell_type": "code",
   "execution_count": 11,
   "metadata": {},
   "outputs": [
    {
     "name": "stdout",
     "output_type": "stream",
     "text": [
      "0.0027542372881356474\n"
     ]
    }
   ],
   "source": [
    "## Write your code here (copy-paste the model and get_period, write gol95_cost)\n",
    "import numpy as np\n",
    "import scipy.integrate\n",
    "import scipy.signal\n",
    "\n",
    "def negative_feedback(t, statevars, params):\n",
    "    M = statevars[0]\n",
    "    P0 = statevars[1]\n",
    "    P1 = statevars[2]\n",
    "    P2 = statevars[3]\n",
    "    PN = statevars[4]\n",
    "    PT = statevars[5]\n",
    "\n",
    "    vs = params[0]\n",
    "    vm = params[1]\n",
    "    Km = params[2]\n",
    "    ks = params[3]\n",
    "    vd = params[4]\n",
    "    k1 = params[5]\n",
    "    k2 = params[6]\n",
    "    KI = params[7]\n",
    "    Kd = params[8]\n",
    "    n = params[9]\n",
    "    K1 = params[10]\n",
    "    K2 = params[11]\n",
    "    K3 = params[12]\n",
    "    K4 = params[13]\n",
    "    V1 = params[14]\n",
    "    V2 = params[15]\n",
    "    V3 = params[16]\n",
    "    V4 = params[17]\n",
    "\n",
    "    dydt = np.zeros( (6,) )\n",
    "    dydt[0] = ( vs * ((KI**n)/(KI**n + PN**n)) ) - ( vm * ((M)/(Km + M)) )\n",
    "    dydt[1] = ks*M - (V1 * ((P0)/(K1+P0))) + (V2 * ((P1)/(K2+P1)))\n",
    "    dydt[2] = (V1*((P0)/(K1+P0))) - (V2*((P1)/(K2+P1))) - (V3*((P1)/(K3+P1))) + (V4*((P2)/(K4+P2)))\n",
    "    dydt[3] = (V3*((P1)/(K3+P1))) - (V4*((P2)/(K4+P2))) - (k1*P2) + (k2*PN) - (vd*((P2)/(Kd+P2)))\n",
    "    dydt[4] = (k1*P2) - (k2*PN)\n",
    "    dydt[5] = dydt[1]+dydt[2]+dydt[3]+dydt[4]\n",
    "    return dydt\n",
    "\n",
    "def get_period(arr,t):\n",
    "    peaks, _ = scipy.signal.find_peaks(arr)\n",
    "    time = []\n",
    "    for peak in peaks:\n",
    "        time.append(t[peak])\n",
    "    periods = []\n",
    "    for i in range(len(time)-1,0,-1):\n",
    "        periods.append(time[i] - time[i-1])\n",
    "        \n",
    "    return np.mean(periods)\n",
    "\n",
    "def gol95_cost(params):\n",
    "    initial = (0.5, 0.5, 0.5, 0.5, 1, 2)\n",
    "    nf = lambda t,y : negative_feedback(t, y, params)\n",
    "    sol1 = scipy.integrate.solve_ivp(fun=nf, t_span=(0,240), y0=initial, t_eval=np.arange(0,240,0.01))\n",
    "    sol2 = scipy.integrate.solve_ivp(fun=nf, t_span=(0,72), y0=sol1.y[:,-1], t_eval=np.arange(0,72,0.01))\n",
    "    per = get_period(sol2.y[1,:], sol2.t)\n",
    "    sdper = np.std(per)\n",
    "    return np.sqrt( ((per-23.6)/23.6)**2 + sdper/23.6)\n",
    "\n",
    "vs = 0.76\n",
    "vm = 0.65\n",
    "Km = 0.5\n",
    "ks = 0.38\n",
    "vd = 0.95\n",
    "k1 = 1.9\n",
    "k2 = 1.3\n",
    "KI = 1\n",
    "Kd = 0.2\n",
    "n = 4\n",
    "K1 = 2\n",
    "K2 = 2\n",
    "K3 = 2\n",
    "K4 = 2\n",
    "V1 = 3.2\n",
    "V2 = 1.58\n",
    "V3 = 5\n",
    "V4 = 2.5\n",
    "params = (vs, vm , Km, ks, vd, k1, k2, KI, Kd, n, K1, K2, K3, K4, V1, V2, V3, V4)\n",
    "\n",
    "print(gol95_cost(params))\n",
    "\n",
    "# Test your cost function here.\n",
    "# When Stephanie tests hers with the parameters from Project 2, her cost is\n",
    "# 0.0027454617448506194"
   ]
  },
  {
   "cell_type": "markdown",
   "metadata": {},
   "source": [
    "### 2. Selection operator\n",
    "\n",
    "Write your selection operators in this cell, so that you can test them with artificial data. I have included a barebones operator along with test code below. The uniform operator is a useless one, because it applies no selection pressure. The test code has costs ranging from 0.1 to 500 and the uniform operator samples from them all, so the histogram of costs from the breeding pool should indicate a uniform distribution from 0.1 to 500. "
   ]
  },
  {
   "cell_type": "code",
   "execution_count": 164,
   "metadata": {},
   "outputs": [
    {
     "data": {
      "text/plain": [
       "Text(0, 0.5, 'Frequency')"
      ]
     },
     "execution_count": 164,
     "metadata": {},
     "output_type": "execute_result"
    },
    {
     "data": {
      "image/png": "[encoded data removed]",
      "text/plain": [
       "<Figure size 576x288 with 1 Axes>"
      ]
     },
     "metadata": {
      "needs_background": "light"
     },
     "output_type": "display_data"
    }
   ],
   "source": [
    "import matplotlib.pyplot as plt\n",
    "import numpy as np\n",
    "\n",
    "class GASettings:\n",
    "    def __init__( self, numParents = 10, numChildren = 50 ):\n",
    "        self.numParents = numParents;\n",
    "        self.numChildren = numChildren;\n",
    "        self.numGenerations = 5;\n",
    "        self.selection = 'truncation'; \n",
    "        self.slope = 15; # for linear ranking selection\n",
    "        self.tournamentSize = 2;\n",
    "        self.crossover = 'uniform';\n",
    "        self.mutation = 0.05; # std of normal distribution computed as mutation*value\n",
    "        self.eliteCount = 1;\n",
    "\n",
    "def select_pool( G, Gcost, settings ):\n",
    "    \"\"\" Select a breding pool from the previous generation.\n",
    "    G is numChildren x numParameters\n",
    "    Gcost is numChildren long and is sorted in ascending order.\n",
    "    Returns (P,Pcost)\n",
    "    where \n",
    "    P is numParents x numParameters\n",
    "    Pcost is numParents long.\n",
    "    \"\"\"\n",
    "    if Gcost.size != settings.numChildren:\n",
    "        print(\"problem\")\n",
    "        return\n",
    "    P = np.zeros( (settings.numParents,G.shape[1]) )\n",
    "    Pcost = np.zeros( (settings.numParents,) )\n",
    "\n",
    "    if settings.selection == 'uniform':\n",
    "        for i in range(settings.numParents):\n",
    "            idx = np.random.choice(G.shape[0])\n",
    "            P[i,:] = G[idx,:]\n",
    "            Pcost[i] = Gcost[idx]\n",
    "    else:\n",
    "        print( \"Unknown selection operator: \", settings.selection )\n",
    "    return (P, Pcost)\n",
    "\n",
    "# Test the selection operators\n",
    "# Make fake parameters, using the index as the values (so we can differentiate them)\n",
    "lam = 10000 # number of individuals in generation\n",
    "mu = 1000 # number of individuals in breeding pool\n",
    "NP = 5 # num of parameters per individual\n",
    "G = np.zeros( (lam,NP) )\n",
    "for i in range(lam):\n",
    "    G[i,:] = i\n",
    "Gcost = np.linspace(0.1,500,lam)\n",
    "settings = GASettings(numParents=mu, numChildren=lam)\n",
    "\n",
    "settings.selection = 'uniform'\n",
    "(P, Pcost) = select_pool(G, Gcost, settings)\n",
    "plt.figure( figsize=(8,4) )\n",
    "plt.hist( Pcost );\n",
    "plt.title( \"Breeding Pool Chosen Uniformly\")\n",
    "plt.xlabel( 'Cost')\n",
    "plt.ylabel('Frequency')\n",
    "\n"
   ]
  },
  {
   "cell_type": "markdown",
   "metadata": {},
   "source": [
    "### 3. Test cross-over and mutation\n",
    "\n",
    "Stephanie puts cross-over and mutation in a function named generateChild. The input to generateChild is the cost function, the breeding pool, the lower bounds, the upper bounds, and the settings. You can test it by generating an artificial breednig pool, such as one in which the first individual is an array of all 1's, the second is all 2's etc. Then, if you print out the results, which two individuals were chosen, how the cross-over was done and how the mutation worked should be clear."
   ]
  },
  {
   "cell_type": "code",
   "execution_count": null,
   "metadata": {},
   "outputs": [],
   "source": [
    "# Write your code for testing cross-over and mutation here."
   ]
  },
  {
   "cell_type": "markdown",
   "metadata": {},
   "source": [
    "### 4. Write your Genetic Algorithm\n",
    "\n",
    "Write it according to the algorithm above and what we have done in class.\n",
    "\n",
    "Test it with the simple island cost function from class."
   ]
  },
  {
   "cell_type": "code",
   "execution_count": null,
   "metadata": {},
   "outputs": [],
   "source": [
    "# Your GA code goes here! Copy-paste the simple island cost function from the Jupyter notebook from class."
   ]
  },
  {
   "cell_type": "markdown",
   "metadata": {},
   "source": [
    "### 5. Run you Genetic Algorithm on the Fly Clock Model\n",
    "\n",
    "Below, I supply code that generates the upper and lower bounds for the parameters. The rest is up to you."
   ]
  },
  {
   "cell_type": "code",
   "execution_count": null,
   "metadata": {},
   "outputs": [],
   "source": [
    "# Code with lower and upper bounds the parameters in Goldbeter's fly clock model.\n",
    "# I put the published values in comments.\n",
    "\n",
    "lb = np.zeros((18,));\n",
    "ub = np.zeros((18,));\n",
    "lb[0] = 0;   ub[0] = 1;# vs = 0.76;\n",
    "lb[1] = 0;   ub[1] = 1;# vm = 0.65;\n",
    "lb[2] = .1;  ub[2] = 1;# Km = 0.5;\n",
    "lb[3] = 0;   ub[3] = 1;# ks = 0.38;\n",
    "lb[4] = 0;   ub[4] = 1;# vd = 0.95;\n",
    "lb[5] = 0;   ub[5] = 2;# k1 = 1.9;\n",
    "lb[6] = 0;   ub[6] = 2;# k2 = 1.3;\n",
    "lb[7] = 1;   ub[7] = 1;# KI = 1;\n",
    "lb[8] = 0.1; ub[8] = 1;# Kd = 0.2;\n",
    "lb[9] = 4;  ub[9] = 4;# n = 4;\n",
    "lb[10] = 0.5;  ub[10] = 2.5;# K1 = 2;\n",
    "lb[11] = 0.5;  ub[11] = 2.5;# K2 = 2;\n",
    "lb[12] = 0.5;  ub[12] = 2.5;# K3 = 2;\n",
    "lb[13] = 0.5;  ub[13] = 2.5;# K4 = 2;\n",
    "lb[14] = 0;  ub[14] = 5;# V1 = 3.2;\n",
    "lb[15] = 0;  ub[15] = 5;# V2 = 1.58;\n",
    "lb[16] = 0;  ub[16] = 5;# V3 = 5;\n",
    "lb[17] = 0;  ub[17] = 5;# V4 = 2.5;\n"
   ]
  },
  {
   "cell_type": "markdown",
   "metadata": {},
   "source": [
    "   ## Begin your project here\n",
    "   \n",
    "  Complete the project (analyzing the algorithm's performance and the parameters output) here. You can add your new selection operators to the code in cells above. Just concentrate main code for the report here.\n"
   ]
  },
  {
   "cell_type": "code",
   "execution_count": 10,
   "metadata": {},
   "outputs": [],
   "source": [
    "# Start code here and write-up here. :)"
   ]
  },
  {
   "cell_type": "markdown",
   "metadata": {},
   "source": [
    "<hr style=\"border:2px solid gray\"> </hr>\n",
    "\n",
    "Acknowledgements\n",
    "\n",
    "*Replace this text with links to external resources and thanks to people you worked with.*"
   ]
  }
 ],
 "metadata": {
  "kernelspec": {
   "display_name": "Python 3",
   "language": "python",
   "name": "python3"
  },
  "language_info": {
   "codemirror_mode": {
    "name": "ipython",
    "version": 3
   },
   "file_extension": ".py",
   "mimetype": "text/x-python",
   "name": "python",
   "nbconvert_exporter": "python",
   "pygments_lexer": "ipython3",
   "version": "3.7.2"
  }
 },
 "nbformat": 4,
 "nbformat_minor": 4
}
