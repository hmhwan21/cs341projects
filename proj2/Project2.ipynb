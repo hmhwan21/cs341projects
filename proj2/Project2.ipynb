{
 "cells": [
  {
   "cell_type": "markdown",
   "metadata": {},
   "source": [
    "There are many reoccurring patterns in gene regulatory networks. In this project, you will be exploring three of them -- a signal cascade of activators, a feed forward loop, and a negative feedback loop. The third example is in the context of a specific biological system -- the fruit fly circadian clock. \n",
    "\n",
    "Your goal is to understand the purpose and mechanisms of these patterns (how do they work? why do we have them?). To accomplish your goal, you should explore and understand the ranges of behaviors of each pattern."
   ]
  },
  {
   "cell_type": "markdown",
   "metadata": {},
   "source": [
    "## Part 1. A Cascade of Activators\n",
    "\n",
    "Consider a system in which a \"signal\"  enters the cell (in form of protein X\\*) and binds to the promoter region of gene y, activating its transcription. Once protein Y has been translated, it binds to the promoter of gene z, activating its transcription. The image below shows the network diagram for such a system. We assume that production of Y is governed by Hill kinetics with a maximal rate of transcription $vY_{max}$, activation coefficient $K_Y$, and Hill coefficient $n_Y$. Likewise, the production of Z is governed by Hill kinetics with the analogous parameters $vZ_{max}$, $K_Z$, and $n_Z$. Both Y and Z are degraded using mass action kinetics with the rate constant $d$. X* is the input and as such can be thought of as an additional, time-varying parameter.\n",
    "\n",
    "<img src=\"pos_cascade.pdf\">\n",
    "<center>A signal cascade of activators. X* activates synthesis of protein Y, which activates synthesis of protein Z.</center>"
   ]
  },
  {
   "cell_type": "markdown",
   "metadata": {},
   "source": [
    "<hr style=\"border:2px solid gray\"> </hr>\n",
    "\n",
    "(1) Write down the ODEs that describe this system. Assume that X\\* is a time-dependent parameter and that we need not include mRNA explicitly. In other words, use 2 ODEs. You may want to call X\\* simply X so that it works well in Latex."
   ]
  },
  {
   "cell_type": "markdown",
   "metadata": {},
   "source": [
    "The parameters are\n",
    "- vY_max: maximum rate of Y's transcription\n",
    "- Ky: the activation threshold for X's activation of Y\n",
    "- ny: the Hill coefficient (exponent) for X's activation of Y\n",
    "- d: the degradation rate constant for Y and Z\n",
    "- X: the amount of X in the system\n",
    "- vZmax: maximum rate of Z's transcription\n",
    "- Kz: the activation threshold for Y's activation of Z\n",
    "- nz: the Hill coefficient (exponent) for Y's activation of Z\n",
    "\n",
    "\n",
    "\n",
    "The model's activation function is\n",
    "\n",
    "$\\frac{dY}{dt} = vY_{max} \\frac{x^{n_{y}}}{K_{y}^{n_{y}}+x^{n_{y}}}-d*Y$\n",
    "\n",
    "$\\frac{dZ}{dt} = vZ_{max} \\frac{y^{n_{z}}}{K_{z}^{n_{z}}+y^{n_{z}}}-d*Z$"
   ]
  },
  {
   "cell_type": "markdown",
   "metadata": {},
   "source": [
    "<hr style=\"border:2px solid gray\"> </hr>\n",
    "\n",
    "(2) Write the Python code necessary to simulate the system. Given the parameters, $vY_{max} = 1 nM/s$, $K_Y = 0.5 nM$, $n_Y=2$, $vZ_{max} = 1 nM/s$, $K_Z = 0.5 nM$, $n_Z=2$, and $d=0.1$ and initial conditions $Y(0) =0$ and $Z(0)=0$, simulate the system for 150 seconds with the signal \"off\" during the first 50 seconds and \"on\" for the rest of the simulation. In other words, simulate the system from $t=0$ to $t=150s$ (with a time step $\\le0.1s$) when the input X\\*(t) = 0 for $0\\le t<50s$ and X\\*(t) = 1 thereafter.\n",
    "\n",
    "Remember to label your axes and your lines (i.e. use a legend). Also, add a new Markdown cell below the figure to describe what it contains and why it shows your calculation is correct.\n",
    "\n",
    "Note: It is a good idea to run the simulation twice - once with X\\* at 0, and one with X\\* at 1. Set up the second simulation to use sol.y\\[:,-1\\] as the initial condition for y. (If you instead attempt to use an if-statement in the model code (e.g. if t < timeOn), then the numerical integrator may take such large steps that it steps over the time t=50 and misses its chance to do what it needs to do.)"
   ]
  },
  {
   "cell_type": "code",
   "execution_count": 1,
   "metadata": {},
   "outputs": [
    {
     "output_type": "execute_result",
     "data": {
      "text/plain": "[<matplotlib.lines.Line2D at 0x1acd4b30>,\n <matplotlib.lines.Line2D at 0x1acd4c50>]"
     },
     "metadata": {},
     "execution_count": 1
    },
    {
     "output_type": "display_data",
     "data": {
      "text/plain": "<Figure size 432x288 with 1 Axes>",
      "image/svg+xml": "<?xml version=\"1.0\" encoding=\"utf-8\" standalone=\"no\"?>\r\n<!DOCTYPE svg PUBLIC \"-//W3C//DTD SVG 1.1//EN\"\r\n  \"http://www.w3.org/Graphics/SVG/1.1/DTD/svg11.dtd\">\r\n<!-- Created with matplotlib (https://matplotlib.org/) -->\r\n<svg height=\"252.018125pt\" version=\"1.1\" viewBox=\"0 0 372.425 252.018125\" width=\"372.425pt\" xmlns=\"http://www.w3.org/2000/svg\" xmlns:xlink=\"http://www.w3.org/1999/xlink\">\r\n <defs>\r\n  <style type=\"text/css\">\r\n*{stroke-linecap:butt;stroke-linejoin:round;}\r\n  </style>\r\n </defs>\r\n <g id=\"figure_1\">\r\n  <g id=\"patch_1\">\r\n   <path d=\"M -0 252.018125 \r\nL 372.425 252.018125 \r\nL 372.425 0 \r\nL -0 0 \r\nz\r\n\" style=\"fill:none;\"/>\r\n  </g>\r\n  <g id=\"axes_1\">\r\n   <g id=\"patch_2\">\r\n    <path d=\"M 26.925 228.14 \r\nL 361.725 228.14 \r\nL 361.725 10.7 \r\nL 26.925 10.7 \r\nz\r\n\" style=\"fill:#ffffff;\"/>\r\n   </g>\r\n   <g id=\"matplotlib.axis_1\">\r\n    <g id=\"xtick_1\">\r\n     <g id=\"line2d_1\">\r\n      <defs>\r\n       <path d=\"M 0 0 \r\nL 0 3.5 \r\n\" id=\"mdab6aa7481\" style=\"stroke:#000000;stroke-width:0.8;\"/>\r\n      </defs>\r\n      <g>\r\n       <use style=\"stroke:#000000;stroke-width:0.8;\" x=\"42.143182\" xlink:href=\"#mdab6aa7481\" y=\"228.14\"/>\r\n      </g>\r\n     </g>\r\n     <g id=\"text_1\">\r\n      <!-- 0 -->\r\n      <defs>\r\n       <path d=\"M 31.78125 66.40625 \r\nQ 24.171875 66.40625 20.328125 58.90625 \r\nQ 16.5 51.421875 16.5 36.375 \r\nQ 16.5 21.390625 20.328125 13.890625 \r\nQ 24.171875 6.390625 31.78125 6.390625 \r\nQ 39.453125 6.390625 43.28125 13.890625 \r\nQ 47.125 21.390625 47.125 36.375 \r\nQ 47.125 51.421875 43.28125 58.90625 \r\nQ 39.453125 66.40625 31.78125 66.40625 \r\nz\r\nM 31.78125 74.21875 \r\nQ 44.046875 74.21875 50.515625 64.515625 \r\nQ 56.984375 54.828125 56.984375 36.375 \r\nQ 56.984375 17.96875 50.515625 8.265625 \r\nQ 44.046875 -1.421875 31.78125 -1.421875 \r\nQ 19.53125 -1.421875 13.0625 8.265625 \r\nQ 6.59375 17.96875 6.59375 36.375 \r\nQ 6.59375 54.828125 13.0625 64.515625 \r\nQ 19.53125 74.21875 31.78125 74.21875 \r\nz\r\n\" id=\"DejaVuSans-48\"/>\r\n      </defs>\r\n      <g transform=\"translate(38.961932 242.738437)scale(0.1 -0.1)\">\r\n       <use xlink:href=\"#DejaVuSans-48\"/>\r\n      </g>\r\n     </g>\r\n    </g>\r\n    <g id=\"xtick_2\">\r\n     <g id=\"line2d_2\">\r\n      <g>\r\n       <use style=\"stroke:#000000;stroke-width:0.8;\" x=\"82.727706\" xlink:href=\"#mdab6aa7481\" y=\"228.14\"/>\r\n      </g>\r\n     </g>\r\n     <g id=\"text_2\">\r\n      <!-- 20 -->\r\n      <defs>\r\n       <path d=\"M 19.1875 8.296875 \r\nL 53.609375 8.296875 \r\nL 53.609375 0 \r\nL 7.328125 0 \r\nL 7.328125 8.296875 \r\nQ 12.9375 14.109375 22.625 23.890625 \r\nQ 32.328125 33.6875 34.8125 36.53125 \r\nQ 39.546875 41.84375 41.421875 45.53125 \r\nQ 43.3125 49.21875 43.3125 52.78125 \r\nQ 43.3125 58.59375 39.234375 62.25 \r\nQ 35.15625 65.921875 28.609375 65.921875 \r\nQ 23.96875 65.921875 18.8125 64.3125 \r\nQ 13.671875 62.703125 7.8125 59.421875 \r\nL 7.8125 69.390625 \r\nQ 13.765625 71.78125 18.9375 73 \r\nQ 24.125 74.21875 28.421875 74.21875 \r\nQ 39.75 74.21875 46.484375 68.546875 \r\nQ 53.21875 62.890625 53.21875 53.421875 \r\nQ 53.21875 48.921875 51.53125 44.890625 \r\nQ 49.859375 40.875 45.40625 35.40625 \r\nQ 44.1875 33.984375 37.640625 27.21875 \r\nQ 31.109375 20.453125 19.1875 8.296875 \r\nz\r\n\" id=\"DejaVuSans-50\"/>\r\n      </defs>\r\n      <g transform=\"translate(76.365206 242.738437)scale(0.1 -0.1)\">\r\n       <use xlink:href=\"#DejaVuSans-50\"/>\r\n       <use x=\"63.623047\" xlink:href=\"#DejaVuSans-48\"/>\r\n      </g>\r\n     </g>\r\n    </g>\r\n    <g id=\"xtick_3\">\r\n     <g id=\"line2d_3\">\r\n      <g>\r\n       <use style=\"stroke:#000000;stroke-width:0.8;\" x=\"123.312229\" xlink:href=\"#mdab6aa7481\" y=\"228.14\"/>\r\n      </g>\r\n     </g>\r\n     <g id=\"text_3\">\r\n      <!-- 40 -->\r\n      <defs>\r\n       <path d=\"M 37.796875 64.3125 \r\nL 12.890625 25.390625 \r\nL 37.796875 25.390625 \r\nz\r\nM 35.203125 72.90625 \r\nL 47.609375 72.90625 \r\nL 47.609375 25.390625 \r\nL 58.015625 25.390625 \r\nL 58.015625 17.1875 \r\nL 47.609375 17.1875 \r\nL 47.609375 0 \r\nL 37.796875 0 \r\nL 37.796875 17.1875 \r\nL 4.890625 17.1875 \r\nL 4.890625 26.703125 \r\nz\r\n\" id=\"DejaVuSans-52\"/>\r\n      </defs>\r\n      <g transform=\"translate(116.949729 242.738437)scale(0.1 -0.1)\">\r\n       <use xlink:href=\"#DejaVuSans-52\"/>\r\n       <use x=\"63.623047\" xlink:href=\"#DejaVuSans-48\"/>\r\n      </g>\r\n     </g>\r\n    </g>\r\n    <g id=\"xtick_4\">\r\n     <g id=\"line2d_4\">\r\n      <g>\r\n       <use style=\"stroke:#000000;stroke-width:0.8;\" x=\"163.896753\" xlink:href=\"#mdab6aa7481\" y=\"228.14\"/>\r\n      </g>\r\n     </g>\r\n     <g id=\"text_4\">\r\n      <!-- 60 -->\r\n      <defs>\r\n       <path d=\"M 33.015625 40.375 \r\nQ 26.375 40.375 22.484375 35.828125 \r\nQ 18.609375 31.296875 18.609375 23.390625 \r\nQ 18.609375 15.53125 22.484375 10.953125 \r\nQ 26.375 6.390625 33.015625 6.390625 \r\nQ 39.65625 6.390625 43.53125 10.953125 \r\nQ 47.40625 15.53125 47.40625 23.390625 \r\nQ 47.40625 31.296875 43.53125 35.828125 \r\nQ 39.65625 40.375 33.015625 40.375 \r\nz\r\nM 52.59375 71.296875 \r\nL 52.59375 62.3125 \r\nQ 48.875 64.0625 45.09375 64.984375 \r\nQ 41.3125 65.921875 37.59375 65.921875 \r\nQ 27.828125 65.921875 22.671875 59.328125 \r\nQ 17.53125 52.734375 16.796875 39.40625 \r\nQ 19.671875 43.65625 24.015625 45.921875 \r\nQ 28.375 48.1875 33.59375 48.1875 \r\nQ 44.578125 48.1875 50.953125 41.515625 \r\nQ 57.328125 34.859375 57.328125 23.390625 \r\nQ 57.328125 12.15625 50.6875 5.359375 \r\nQ 44.046875 -1.421875 33.015625 -1.421875 \r\nQ 20.359375 -1.421875 13.671875 8.265625 \r\nQ 6.984375 17.96875 6.984375 36.375 \r\nQ 6.984375 53.65625 15.1875 63.9375 \r\nQ 23.390625 74.21875 37.203125 74.21875 \r\nQ 40.921875 74.21875 44.703125 73.484375 \r\nQ 48.484375 72.75 52.59375 71.296875 \r\nz\r\n\" id=\"DejaVuSans-54\"/>\r\n      </defs>\r\n      <g transform=\"translate(157.534253 242.738437)scale(0.1 -0.1)\">\r\n       <use xlink:href=\"#DejaVuSans-54\"/>\r\n       <use x=\"63.623047\" xlink:href=\"#DejaVuSans-48\"/>\r\n      </g>\r\n     </g>\r\n    </g>\r\n    <g id=\"xtick_5\">\r\n     <g id=\"line2d_5\">\r\n      <g>\r\n       <use style=\"stroke:#000000;stroke-width:0.8;\" x=\"204.481277\" xlink:href=\"#mdab6aa7481\" y=\"228.14\"/>\r\n      </g>\r\n     </g>\r\n     <g id=\"text_5\">\r\n      <!-- 80 -->\r\n      <defs>\r\n       <path d=\"M 31.78125 34.625 \r\nQ 24.75 34.625 20.71875 30.859375 \r\nQ 16.703125 27.09375 16.703125 20.515625 \r\nQ 16.703125 13.921875 20.71875 10.15625 \r\nQ 24.75 6.390625 31.78125 6.390625 \r\nQ 38.8125 6.390625 42.859375 10.171875 \r\nQ 46.921875 13.96875 46.921875 20.515625 \r\nQ 46.921875 27.09375 42.890625 30.859375 \r\nQ 38.875 34.625 31.78125 34.625 \r\nz\r\nM 21.921875 38.8125 \r\nQ 15.578125 40.375 12.03125 44.71875 \r\nQ 8.5 49.078125 8.5 55.328125 \r\nQ 8.5 64.0625 14.71875 69.140625 \r\nQ 20.953125 74.21875 31.78125 74.21875 \r\nQ 42.671875 74.21875 48.875 69.140625 \r\nQ 55.078125 64.0625 55.078125 55.328125 \r\nQ 55.078125 49.078125 51.53125 44.71875 \r\nQ 48 40.375 41.703125 38.8125 \r\nQ 48.828125 37.15625 52.796875 32.3125 \r\nQ 56.78125 27.484375 56.78125 20.515625 \r\nQ 56.78125 9.90625 50.3125 4.234375 \r\nQ 43.84375 -1.421875 31.78125 -1.421875 \r\nQ 19.734375 -1.421875 13.25 4.234375 \r\nQ 6.78125 9.90625 6.78125 20.515625 \r\nQ 6.78125 27.484375 10.78125 32.3125 \r\nQ 14.796875 37.15625 21.921875 38.8125 \r\nz\r\nM 18.3125 54.390625 \r\nQ 18.3125 48.734375 21.84375 45.5625 \r\nQ 25.390625 42.390625 31.78125 42.390625 \r\nQ 38.140625 42.390625 41.71875 45.5625 \r\nQ 45.3125 48.734375 45.3125 54.390625 \r\nQ 45.3125 60.0625 41.71875 63.234375 \r\nQ 38.140625 66.40625 31.78125 66.40625 \r\nQ 25.390625 66.40625 21.84375 63.234375 \r\nQ 18.3125 60.0625 18.3125 54.390625 \r\nz\r\n\" id=\"DejaVuSans-56\"/>\r\n      </defs>\r\n      <g transform=\"translate(198.118777 242.738437)scale(0.1 -0.1)\">\r\n       <use xlink:href=\"#DejaVuSans-56\"/>\r\n       <use x=\"63.623047\" xlink:href=\"#DejaVuSans-48\"/>\r\n      </g>\r\n     </g>\r\n    </g>\r\n    <g id=\"xtick_6\">\r\n     <g id=\"line2d_6\">\r\n      <g>\r\n       <use style=\"stroke:#000000;stroke-width:0.8;\" x=\"245.065801\" xlink:href=\"#mdab6aa7481\" y=\"228.14\"/>\r\n      </g>\r\n     </g>\r\n     <g id=\"text_6\">\r\n      <!-- 100 -->\r\n      <defs>\r\n       <path d=\"M 12.40625 8.296875 \r\nL 28.515625 8.296875 \r\nL 28.515625 63.921875 \r\nL 10.984375 60.40625 \r\nL 10.984375 69.390625 \r\nL 28.421875 72.90625 \r\nL 38.28125 72.90625 \r\nL 38.28125 8.296875 \r\nL 54.390625 8.296875 \r\nL 54.390625 0 \r\nL 12.40625 0 \r\nz\r\n\" id=\"DejaVuSans-49\"/>\r\n      </defs>\r\n      <g transform=\"translate(235.522051 242.738437)scale(0.1 -0.1)\">\r\n       <use xlink:href=\"#DejaVuSans-49\"/>\r\n       <use x=\"63.623047\" xlink:href=\"#DejaVuSans-48\"/>\r\n       <use x=\"127.246094\" xlink:href=\"#DejaVuSans-48\"/>\r\n      </g>\r\n     </g>\r\n    </g>\r\n    <g id=\"xtick_7\">\r\n     <g id=\"line2d_7\">\r\n      <g>\r\n       <use style=\"stroke:#000000;stroke-width:0.8;\" x=\"285.650325\" xlink:href=\"#mdab6aa7481\" y=\"228.14\"/>\r\n      </g>\r\n     </g>\r\n     <g id=\"text_7\">\r\n      <!-- 120 -->\r\n      <g transform=\"translate(276.106575 242.738437)scale(0.1 -0.1)\">\r\n       <use xlink:href=\"#DejaVuSans-49\"/>\r\n       <use x=\"63.623047\" xlink:href=\"#DejaVuSans-50\"/>\r\n       <use x=\"127.246094\" xlink:href=\"#DejaVuSans-48\"/>\r\n      </g>\r\n     </g>\r\n    </g>\r\n    <g id=\"xtick_8\">\r\n     <g id=\"line2d_8\">\r\n      <g>\r\n       <use style=\"stroke:#000000;stroke-width:0.8;\" x=\"326.234849\" xlink:href=\"#mdab6aa7481\" y=\"228.14\"/>\r\n      </g>\r\n     </g>\r\n     <g id=\"text_8\">\r\n      <!-- 140 -->\r\n      <g transform=\"translate(316.691099 242.738437)scale(0.1 -0.1)\">\r\n       <use xlink:href=\"#DejaVuSans-49\"/>\r\n       <use x=\"63.623047\" xlink:href=\"#DejaVuSans-52\"/>\r\n       <use x=\"127.246094\" xlink:href=\"#DejaVuSans-48\"/>\r\n      </g>\r\n     </g>\r\n    </g>\r\n   </g>\r\n   <g id=\"matplotlib.axis_2\">\r\n    <g id=\"ytick_1\">\r\n     <g id=\"line2d_9\">\r\n      <defs>\r\n       <path d=\"M 0 0 \r\nL -3.5 0 \r\n\" id=\"m9b9ed5cce9\" style=\"stroke:#000000;stroke-width:0.8;\"/>\r\n      </defs>\r\n      <g>\r\n       <use style=\"stroke:#000000;stroke-width:0.8;\" x=\"26.925\" xlink:href=\"#m9b9ed5cce9\" y=\"218.256364\"/>\r\n      </g>\r\n     </g>\r\n     <g id=\"text_9\">\r\n      <!-- 0 -->\r\n      <g transform=\"translate(13.5625 222.055582)scale(0.1 -0.1)\">\r\n       <use xlink:href=\"#DejaVuSans-48\"/>\r\n      </g>\r\n     </g>\r\n    </g>\r\n    <g id=\"ytick_2\">\r\n     <g id=\"line2d_10\">\r\n      <g>\r\n       <use style=\"stroke:#000000;stroke-width:0.8;\" x=\"26.925\" xlink:href=\"#m9b9ed5cce9\" y=\"178.563941\"/>\r\n      </g>\r\n     </g>\r\n     <g id=\"text_10\">\r\n      <!-- 2 -->\r\n      <g transform=\"translate(13.5625 182.36316)scale(0.1 -0.1)\">\r\n       <use xlink:href=\"#DejaVuSans-50\"/>\r\n      </g>\r\n     </g>\r\n    </g>\r\n    <g id=\"ytick_3\">\r\n     <g id=\"line2d_11\">\r\n      <g>\r\n       <use style=\"stroke:#000000;stroke-width:0.8;\" x=\"26.925\" xlink:href=\"#m9b9ed5cce9\" y=\"138.871519\"/>\r\n      </g>\r\n     </g>\r\n     <g id=\"text_11\">\r\n      <!-- 4 -->\r\n      <g transform=\"translate(13.5625 142.670738)scale(0.1 -0.1)\">\r\n       <use xlink:href=\"#DejaVuSans-52\"/>\r\n      </g>\r\n     </g>\r\n    </g>\r\n    <g id=\"ytick_4\">\r\n     <g id=\"line2d_12\">\r\n      <g>\r\n       <use style=\"stroke:#000000;stroke-width:0.8;\" x=\"26.925\" xlink:href=\"#m9b9ed5cce9\" y=\"99.179097\"/>\r\n      </g>\r\n     </g>\r\n     <g id=\"text_12\">\r\n      <!-- 6 -->\r\n      <g transform=\"translate(13.5625 102.978316)scale(0.1 -0.1)\">\r\n       <use xlink:href=\"#DejaVuSans-54\"/>\r\n      </g>\r\n     </g>\r\n    </g>\r\n    <g id=\"ytick_5\">\r\n     <g id=\"line2d_13\">\r\n      <g>\r\n       <use style=\"stroke:#000000;stroke-width:0.8;\" x=\"26.925\" xlink:href=\"#m9b9ed5cce9\" y=\"59.486675\"/>\r\n      </g>\r\n     </g>\r\n     <g id=\"text_13\">\r\n      <!-- 8 -->\r\n      <g transform=\"translate(13.5625 63.285894)scale(0.1 -0.1)\">\r\n       <use xlink:href=\"#DejaVuSans-56\"/>\r\n      </g>\r\n     </g>\r\n    </g>\r\n    <g id=\"ytick_6\">\r\n     <g id=\"line2d_14\">\r\n      <g>\r\n       <use style=\"stroke:#000000;stroke-width:0.8;\" x=\"26.925\" xlink:href=\"#m9b9ed5cce9\" y=\"19.794253\"/>\r\n      </g>\r\n     </g>\r\n     <g id=\"text_14\">\r\n      <!-- 10 -->\r\n      <g transform=\"translate(7.2 23.593471)scale(0.1 -0.1)\">\r\n       <use xlink:href=\"#DejaVuSans-49\"/>\r\n       <use x=\"63.623047\" xlink:href=\"#DejaVuSans-48\"/>\r\n      </g>\r\n     </g>\r\n    </g>\r\n   </g>\r\n   <g id=\"line2d_15\">\r\n    <path clip-path=\"url(#pe879a7e62b)\" d=\"M 42.143182 218.256364 \r\nL 143.584199 218.256364 \r\nL 143.584199 218.256364 \r\n\" style=\"fill:none;stroke:#1f77b4;stroke-linecap:square;stroke-width:1.5;\"/>\r\n   </g>\r\n   <g id=\"line2d_16\">\r\n    <path clip-path=\"url(#pe879a7e62b)\" d=\"M 42.143182 218.256364 \r\nL 143.584199 218.256364 \r\nL 143.584199 218.256364 \r\n\" style=\"fill:none;stroke:#ff7f0e;stroke-linecap:square;stroke-width:1.5;\"/>\r\n   </g>\r\n   <g id=\"line2d_17\">\r\n    <path clip-path=\"url(#pe879a7e62b)\" d=\"M 143.604491 218.256364 \r\nL 145.775763 202.145316 \r\nL 147.947035 187.669127 \r\nL 150.118307 174.661686 \r\nL 152.289579 162.974335 \r\nL 154.481144 152.380304 \r\nL 156.672708 142.868387 \r\nL 158.864272 134.324142 \r\nL 161.055837 126.655649 \r\nL 163.247401 119.777541 \r\nL 165.459257 113.55571 \r\nL 167.691406 107.932159 \r\nL 169.943847 102.850523 \r\nL 172.236873 98.217833 \r\nL 174.550191 94.0367 \r\nL 176.883801 90.27352 \r\nL 179.237703 86.89537 \r\nL 181.63219 83.844883 \r\nL 184.087554 81.07588 \r\nL 186.624087 78.550512 \r\nL 189.262081 76.236557 \r\nL 192.062413 74.076867 \r\nL 194.943914 72.135878 \r\nL 197.926876 70.396336 \r\nL 201.031593 68.843652 \r\nL 204.339231 67.440329 \r\nL 207.910669 66.169554 \r\nL 211.908245 64.988306 \r\nL 216.453712 63.880196 \r\nL 221.262978 62.939229 \r\nL 226.478089 62.14958 \r\nL 232.362845 61.489496 \r\nL 239.749228 60.898342 \r\nL 249.347468 60.35243 \r\nL 259.513891 60.00432 \r\nL 273.698182 59.76815 \r\nL 298.069189 59.557622 \r\nL 346.506818 59.498507 \r\nL 346.506818 59.498507 \r\n\" style=\"fill:none;stroke:#2ca02c;stroke-linecap:square;stroke-width:1.5;\"/>\r\n   </g>\r\n   <g id=\"line2d_18\">\r\n    <path clip-path=\"url(#pe879a7e62b)\" d=\"M 143.604491 218.256364 \r\nL 143.990044 218.148187 \r\nL 144.253844 217.788764 \r\nL 144.57852 216.904906 \r\nL 145.045242 214.867959 \r\nL 145.755471 210.59389 \r\nL 147.054176 201.170966 \r\nL 151.599643 167.446905 \r\nL 153.953545 151.89269 \r\nL 156.246571 138.218234 \r\nL 158.499012 126.104366 \r\nL 160.73116 115.291424 \r\nL 162.963309 105.565019 \r\nL 165.175166 96.903417 \r\nL 167.387022 89.121565 \r\nL 169.619171 82.069301 \r\nL 171.871612 75.678104 \r\nL 174.144346 69.887356 \r\nL 176.417079 64.697947 \r\nL 178.689812 60.054599 \r\nL 180.982838 55.869458 \r\nL 183.296156 52.103367 \r\nL 185.650058 48.68934 \r\nL 188.085129 45.547944 \r\nL 190.60137 42.663413 \r\nL 193.198779 40.021308 \r\nL 195.836774 37.653969 \r\nL 198.535644 35.52974 \r\nL 201.315684 33.622825 \r\nL 204.23777 31.888935 \r\nL 207.342486 30.307835 \r\nL 210.711001 28.845351 \r\nL 214.485362 27.453544 \r\nL 218.462646 26.222083 \r\nL 222.663144 25.1555 \r\nL 227.188318 24.238683 \r\nL 232.241091 23.4474 \r\nL 238.308478 22.73282 \r\nL 246.364506 22.018741 \r\nL 254.562579 21.519147 \r\nL 263.937604 21.178927 \r\nL 280.800474 20.845931 \r\nL 298.880879 20.667332 \r\nL 346.506818 20.583636 \r\nL 346.506818 20.583636 \r\n\" style=\"fill:none;stroke:#d62728;stroke-linecap:square;stroke-width:1.5;\"/>\r\n   </g>\r\n   <g id=\"patch_3\">\r\n    <path d=\"M 26.925 228.14 \r\nL 26.925 10.7 \r\n\" style=\"fill:none;stroke:#000000;stroke-linecap:square;stroke-linejoin:miter;stroke-width:0.8;\"/>\r\n   </g>\r\n   <g id=\"patch_4\">\r\n    <path d=\"M 361.725 228.14 \r\nL 361.725 10.7 \r\n\" style=\"fill:none;stroke:#000000;stroke-linecap:square;stroke-linejoin:miter;stroke-width:0.8;\"/>\r\n   </g>\r\n   <g id=\"patch_5\">\r\n    <path d=\"M 26.925 228.14 \r\nL 361.725 228.14 \r\n\" style=\"fill:none;stroke:#000000;stroke-linecap:square;stroke-linejoin:miter;stroke-width:0.8;\"/>\r\n   </g>\r\n   <g id=\"patch_6\">\r\n    <path d=\"M 26.925 10.7 \r\nL 361.725 10.7 \r\n\" style=\"fill:none;stroke:#000000;stroke-linecap:square;stroke-linejoin:miter;stroke-width:0.8;\"/>\r\n   </g>\r\n  </g>\r\n </g>\r\n <defs>\r\n  <clipPath id=\"pe879a7e62b\">\r\n   <rect height=\"217.44\" width=\"334.8\" x=\"26.925\" y=\"10.7\"/>\r\n  </clipPath>\r\n </defs>\r\n</svg>\r\n",
      "image/png": "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\n"
     },
     "metadata": {
      "needs_background": "light"
     }
    }
   ],
   "source": [
    "import numpy as np\n",
    "import scipy.integrate\n",
    "import matplotlib.pyplot as plt\n",
    "def chain_activator(t, statevars, params):\n",
    "    Y = statevars[0]\n",
    "    Z = statevars[1]\n",
    "    \n",
    "    vY_max = params[0]\n",
    "    Ky = params[1]\n",
    "    ny = params[2]\n",
    "    vZ_max = params[3]\n",
    "    Kz = params[4]\n",
    "    nz = params[5]\n",
    "    d = params[6]\n",
    "    x = params[7]\n",
    "    \n",
    "    dydt = np.zeros( (2,) )\n",
    "    dydt[0] = vY_max* x**ny/(Ky**ny + x**ny) - d*Y;\n",
    "    dydt[1] = vZ_max* Y**nz/(Kz**nz + Y**nz) - d*Z;\n",
    "    \n",
    "    return dydt\n",
    "    \n",
    "\n",
    "\n",
    "vY_max = 1\n",
    "Ky = 0.5\n",
    "ny = 2\n",
    "vZ_max = 1\n",
    "Kz = 0.5\n",
    "nz = 2\n",
    "d = 0.1\n",
    "\n",
    "Y0 = 0 #initial values\n",
    "Z0 = 0\n",
<<<<<<< HEAD
    "params = (vY_max, Ky, ny, vZ_max, Kz, nz, d, 1,0)\n"
=======
    "\n",
    "params_off = (vY_max, Ky, ny, vZ_max, Kz, nz, d, 0)\n",
    "params_on = (vY_max, Ky, ny, vZ_max, Kz, nz, d, 1)\n",
    "\n",
    "\n",
    "time_x_on = 50\n",
    "ca_on = lambda t,y : chain_activator(t,y, params_off)\n",
    "ca_off = lambda t,y : chain_activator(t,y, params_on)\n",
    "\n",
    "sol1 = scipy.integrate.solve_ivp( fun=ca_on, t_span=(0,time_x_on), y0=(Y0,Z0), t_eval=np.arange(0,time_x_on,.01) )\n",
    "sol2 = scipy.integrate.solve_ivp( fun=ca_off, t_span=(time_x_on,150), y0=sol1.y[:,-1], t_eval=np.arange(time_x_on,150,.01) )\n",
    "\n",
    "#plot it\n",
    "plt.plot(sol1.t, sol1.y.T)\n",
    "plt.plot(sol2.t, sol2.y.T)"
>>>>>>> 79ddf20defa1ed0c35a21d3b02087aef490a0ab9
   ]
  },
  {
   "cell_type": "markdown",
   "metadata": {},
   "source": [
    "<hr style=\"border:2px solid gray\"> </hr>\n",
    "\n",
    "(3) X\\* provides \"simple input\" to gene Y. When X\\* is present, Y is activated and $Y(t)$ increases significantly. However, Z rises higher. Indeed, the biological purpose of a signal cascade is to amplify an input signal. Explore the effects of signal strength (i.e. the magnitude of X\\*) on the profile of Z. When does a stronger signal fail to yield a higher response? Why? (Hint: consider the Hill equation). When does it amplify the signal the most ? (By \"amplify the signal the most\", I mean \"increase the ratio of Z to Y\" -- not necessarily increase the absolute values.)\n",
    "\n",
    "*Opportunity for thoroughness: Please feel free to add additional code and Markdown cells to make your explanation as complete as possible.*"
   ]
  },
  {
   "cell_type": "code",
   "execution_count": 17,
   "metadata": {},
   "outputs": [],
   "source": [
    "# Write code here\n"
   ]
  },
  {
   "cell_type": "markdown",
   "metadata": {},
   "source": [
    "<hr style=\"border:2px solid gray\"> </hr>\n",
    "\n",
    "(4) If we increase the Hill coefficient, how does the answer to (3) change? Why?\n",
    "\n",
    "Note: For the sake of simplicity, you can vary $n_Y$ and $n_Z$ together.\n",
    "\n",
    "*Opportunity for thoroughness: Please feel free to add additional code and Markdown cells to make your explanation as complete as possible.*"
   ]
  },
  {
   "cell_type": "code",
   "execution_count": 18,
   "metadata": {},
   "outputs": [],
   "source": [
    "# Write code here"
   ]
  },
  {
   "cell_type": "markdown",
   "metadata": {},
   "source": [
    "<hr style=\"border:2px solid gray\"> </hr>\n",
    "\n",
    "(5) What is the relationship between the response time of Z and the onset of the signal? Numerically determine Z's response time by estimating its steady-state $Z_{SS}$ and the time it takes for Z to become $Z_{SS}/2$ (in the original configuration and others if you would like to explore further).\n",
    "\n",
    "*Opportunity for thoroughness: Please feel free to add additional code and Markdown cells to make your explanation as complete as possible.*"
   ]
  },
  {
   "cell_type": "code",
   "execution_count": 19,
   "metadata": {},
   "outputs": [],
   "source": [
    "# Write code here"
   ]
  },
  {
   "cell_type": "markdown",
   "metadata": {},
   "source": [
    "## Part 2. A Feed-Forward Loop\n",
    "\n",
    "Next, consider a common feed-forward loop (see image below) similar to the activation cascade, but in which X\\* also \"feeds forward\" its signal directly to Z. The regulation of X\\* and Y\\* work together to activate transcription. Logically, we think of them as being \"ANDed\" together. Mathematically, we express it by multiplying the two regulation terms. We use the same assumptions as above, and therefore mostly the same parameters. Because there are two regulators for Z, we use $K_{ZX}$, $K_{ZY}$, $n_{ZX}$, and $n_{ZY}$ instead of just $K_Z$ and $n_Z$.\n",
    "\n",
    "<img src=\"FFLC1.pdf\">\n",
    "<center>A signal cascade of activators. X* activates synthesis of protein Y, which activates synthesis of protein Z.</center>\n"
   ]
  },
  {
   "cell_type": "markdown",
   "metadata": {},
   "source": [
    "<hr style=\"border:2px solid gray\"> </hr>\n",
    "\n",
    "(1) Write down the ODEs that describe this system. Like above, use 2 ODEs."
   ]
  },
  {
   "cell_type": "markdown",
   "metadata": {},
   "source": [
    "The parameters are\n",
    "- vY_max: maximum rate of Y's transcription\n",
    "- Ky: the activation threshold for X's activation of Y\n",
    "- ny: the Hill coefficient (exponent) for X's activation of Y\n",
    "- d: the degradation rate constant for Y and Z\n",
    "- X: the amount of X in the system\n",
    "- vZmax: maximum rate of Z's transcription\n",
    "- Kzx: the activation threshold for X's activation of Z\n",
    "- Kzy: the activation threshold for Y's activation of Z\n",
    "- nzx: the Hill coefficient (exponent) for X's activation of Z\n",
    "- nzy: the Hill coefficient (exponent) for Y's activation of Z\n",
    "\n",
    "\n",
    "The model's activation function is\n",
    "\n",
    "$\\frac{dY}{dt} = vY_{max} \\frac{x^{n_{y}}}{K_{y}^{n_{y}}+x^{n_{y}}}-d*Y$\n",
    "\n",
    "$\\frac{dZ}{dt} = vZ_{max} \\frac{x^{n_{zx}}}{K_{zx}^{n_{zx}}+x^{n_{zx}}} * \\frac{y^{n_{zy}}}{K_{zy}^{n_{zy}}+y^{n_{zy}}}-d*Z$"
   ]
  },
  {
   "cell_type": "markdown",
   "metadata": {},
   "source": [
    "<hr style=\"border:2px solid gray\"> </hr>\n",
    "\n",
    "(2) Write the Python code necessary to simulate the system. Given the parameters, $vY_{max} = 1 nM/s$, $K_Y = 0.5 nM$, $n_Y=2$, $vZ_{max} = 1 nM/s$, $K_{ZX} = 0.5 nM$, $n_{ZX}=2$, $K_{ZY} = 0.5 nM$, $n_{ZY}=2$, and $d=1$ and initial conditions $Y(0) =0$ and $Z(0)=0$, simulate the system for 3.5 seconds with the signal \"off\" during the first 0.5 seconds and \"on\" for the rest of the simulation. In other words, simulate the system from $t=0$ to $t=3.5s$ (with a time step $\\le0.01s$) when the input X*(t) = 0 for $0\\le t<0.5s$ and X*(t) = 1 thereafter."
   ]
  },
  {
   "cell_type": "code",
   "execution_count": 20,
   "metadata": {},
   "outputs": [],
   "source": [
    "# Write code here.\n"
   ]
  },
  {
   "cell_type": "markdown",
   "metadata": {},
   "source": [
    "<hr style=\"border:2px solid gray\"> </hr>\n",
    "\n",
    "(3) The biological purpose is to allow the system to ignore signals that are too short. In other words, this system is not set off accidentally by random fluctuations in certain proteins. Demonstrate how this feed-forward system is immune to short signals where as the cascade of activators is susceptible to it. Is a feed-forward loop immune to short signals because it delays the signal's off-to-on transition or on-to-off transition? Or both? You may want to compare the timing of these transitions in the feed-forward loop to the timing of these transitions in the simple cascade from the previous problem."
   ]
  },
  {
   "cell_type": "code",
   "execution_count": 21,
   "metadata": {},
   "outputs": [],
   "source": [
    "# Write code here"
   ]
  },
  {
   "cell_type": "markdown",
   "metadata": {},
   "source": [
    "## Part 3. A Negative Feedback Loop\n",
    "\n",
    "Another ubiquitous gene network structure is that of the negative feedback loop. In 1995, Albert Goldbeter published an important mathematical model of the gene regulatory network in the fruit fly circadian clock. Even though it involves only one protein, it is remarkable in its ability to behave realistically.\n",
    "\n",
    "Read the paper \"A model of circadian oscillations in the *Drosophila* period protein\", *Proc. R. Soc. Lond. B*, 1995, which can be found at <a href=\"http://www.jstor.org/pss/50324\">JStor</a> that Stephanie emailed to you."
   ]
  },
  {
   "cell_type": "markdown",
   "metadata": {},
   "source": [
    "<hr style=\"border:2px solid gray\"> </hr>\n",
    "\n",
    "(1) Reproduce Figure 2. The equations are specified in the text, and the parameter values are given in the figure's caption. Because this is a limit cycle oscillator, the system will achieve its cycle (rhythmic behavior) regardless of initial conditions. Initial conditions do, however, determine *when* the system achieves the rhythmic behavior -- if you start too far away from the cycle, you will have to simulate a long time before you see rhythms. Examine Goldbeter's Figure 2 to determine a reasonable set of initial conditions. Write the appropriate Python code, and run it. Your new figure does not need to use the same line styles as Goldbeter's, but it should have the same values at the same times (i.e. the mRNA component should peak around $t=12h$).\n",
    "\n",
    "Note: Be careful. The text is little and it is possible to mistake $K_1$ (K one) for $K_I$ (K eye) and vice versa. Both are used in the equations.\n",
    "\n",
    "Note: A strategy that I use for finding the periodic solution is to run the solver for 240 hours (to simulate 10 days), then grab the value of the state variables at the last time point. I use that value to begin a second, shorter, simulation that I plot."
   ]
  },
  {
   "cell_type": "code",
   "execution_count": 22,
   "metadata": {},
   "outputs": [],
   "source": [
    "# Write code here"
   ]
  },
  {
   "cell_type": "markdown",
   "metadata": {},
   "source": [
    "<hr style=\"border:2px solid gray\"> </hr>\n",
    "\n",
    "(2) One of the discussions in the paper is about the importance of the rate of doubly-phosphorylated PER degradation ($v_d$) on the period of the oscillation. He doubles the rate of PER translation (i.e. $k_s=0.78h_{-1}$ ). Using this set of parameters, he simulates the model many times, each time using different value of $v_d$. He demonstrates the strong depends of the period on the value of $v_d$. Then, in the text, he also mentions that the amplitude of oscillation depends on $v_d$ in an unintuitive direction -- increasing degradation of PER actually causes the maximum level of total PER to increase. This happens because the time evolutions of PER and *per* mRNA are closely intertwined. In other words, they are in a network with feedback and the process of degradation cannot be studied effectively in isolation. Write Python code to vary the value of $v_d$ and generate one or more figures to illustrate this unintuitive behavior. Is the same true for mRNA degradation? If so, why? If not, why not?\n",
    "\n",
    "Note: Answer this question by performing a similar experiment that varies $v_m$. Be sure to take into account only those values of $v_m$ that allow the system to oscillate."
   ]
  },
  {
   "cell_type": "code",
   "execution_count": 24,
   "metadata": {},
   "outputs": [],
   "source": [
    "# Write code here"
   ]
  },
  {
   "cell_type": "markdown",
   "metadata": {},
   "source": [
    "<hr style=\"border:2px solid gray\"> </hr>\n",
    "\n",
    "Acknowledgements\n",
    "\n",
    "*Replace this text with links to external resources and thanks to people you worked with.*"
   ]
  }
 ],
 "metadata": {
  "kernelspec": {
   "name": "Python 3.7.2 32-bit",
   "display_name": "Python 3.7.2 32-bit",
   "metadata": {
    "interpreter": {
     "hash": "0fb9d453da32658d580994c87d47d9e210127797f26e357847d4604176dc5dc7"
    }
   }
  },
  "language_info": {
   "codemirror_mode": {
    "name": "ipython",
    "version": 3
   },
   "file_extension": ".py",
   "mimetype": "text/x-python",
   "name": "python",
   "nbconvert_exporter": "python",
   "pygments_lexer": "ipython3",
   "version": "3.7.2-final"
  }
 },
 "nbformat": 4,
 "nbformat_minor": 4
}